{
 "cells": [
  {
   "cell_type": "markdown",
   "metadata": {},
   "source": [
    "# Logistic regression and comparing groups"
   ]
  },
  {
   "cell_type": "markdown",
   "metadata": {},
   "source": [
    "Idea: Could we any of:\n",
    "- the Titanic dataset\n",
    "- the credit scoring dataset (from the lectures)\n",
    "- the dataset to with depression and body image (from the coursework)\n",
    "\n",
    "in two ways:\n",
    "\n",
    "1. Compare differences in means between two groups (hypothesis test)\n",
    "   - Using bootstrap\n",
    "   - Using t-test\n",
    "\n",
    "2. Try to fit a logistic regression model to predict the survival (in Titanic) or credit approval "
   ]
  },
  {
   "cell_type": "code",
   "execution_count": null,
   "metadata": {},
   "outputs": [],
   "source": [
    "import pandas as pd\n",
    "import seaborn as sns\n",
    "import numpy as np\n",
    "import matplotlib.pyplot as plt\n",
    "import matplotlib\n",
    "from sklearn.linear_model import LogisticRegression\n",
    "from sklearn.neighbors import KNeighborsClassifier\n",
    "from sklearn.preprocessing import StandardScaler\n",
    "from sklearn.pipeline import make_pipeline\n"
   ]
  },
  {
   "cell_type": "code",
   "execution_count": null,
   "metadata": {},
   "outputs": [],
   "source": [
    "titanic = pd.read_csv('datasets/titanic.csv')\n",
    "sns.distplot(titanic.loc[titanic['Survived'] == 1, 'Age'])"
   ]
  },
  {
   "cell_type": "code",
   "execution_count": null,
   "metadata": {},
   "outputs": [],
   "source": [
    "sns.pairplot(titanic, hue='Survived')"
   ]
  },
  {
   "cell_type": "code",
   "execution_count": null,
   "metadata": {},
   "outputs": [],
   "source": [
    "titanic[titanic['Fare'] == 0]"
   ]
  },
  {
   "cell_type": "markdown",
   "metadata": {},
   "source": [
    "## Transform titanic suitable for sk-learn\n",
    "- Replace the `Fare` variable with a log transformed version of `Fare` called `LogFare`. What's the problem with a log transform? Hint: you can fix this by the transform `log(x) + 1`\n",
    "- Encode female/male in 'Sex' as 0/1 values\n",
    "- Drop any other non-numeric variables"
   ]
  },
  {
   "cell_type": "code",
   "execution_count": null,
   "metadata": {},
   "outputs": [],
   "source": [
    "titanic_trans = titanic.copy()"
   ]
  },
  {
   "cell_type": "code",
   "execution_count": null,
   "metadata": {},
   "outputs": [],
   "source": [
    "titanic_trans['LogFare'] = np.log10(titanic['Fare'] + 1)\n",
    "titanic_trans.drop(['Fare', 'Name'], 1, inplace=True)\n",
    "titanic_trans.replace({'Sex': {'female': 0, 'male': 1}}, inplace=True)"
   ]
  },
  {
   "cell_type": "code",
   "execution_count": null,
   "metadata": {},
   "outputs": [],
   "source": [
    "sns.pairplot(titanic_trans, hue='Survived')"
   ]
  },
  {
   "cell_type": "code",
   "execution_count": null,
   "metadata": {},
   "outputs": [],
   "source": [
    "titanic_sample = titanic.sample(100, random_state=6)\n",
    "# sns.relplot(x='Age', y='Survived', data=titanic_sample)"
   ]
  },
  {
   "cell_type": "code",
   "execution_count": null,
   "metadata": {},
   "outputs": [],
   "source": [
    "X = titanic_trans.drop('Survived', 1).to_numpy(copy=True) \n",
    "y = titanic_trans['Survived'].to_numpy()\n",
    "clf = LogisticRegression(random_state=0).fit(X, y)\n",
    "clf.intercept_\n",
    "clf.coef_"
   ]
  },
  {
   "cell_type": "markdown",
   "metadata": {},
   "source": [
    "**Exercise:** Interpret the intercept, including the characteristics of the passenger to which it applies. Does such a passenger exist?"
   ]
  },
  {
   "cell_type": "code",
   "execution_count": null,
   "metadata": {},
   "outputs": [],
   "source": [
    "clf.intercept_"
   ]
  },
  {
   "cell_type": "markdown",
   "metadata": {},
   "source": [
    "This is the log odds of survival of a newborn female in \"zeroeth class\" with no siblings and no parents aboard, who paid no fare. It shows that this hypothetical passenger was $e^3.701=40.5$ times more likely to survive than die."
   ]
  },
  {
   "cell_type": "markdown",
   "metadata": {},
   "source": [
    "**Exercise:** Interpret the coefficients. You may find it helpful to convert the output from sklearn back into a pandas Series with an index. Try to use language that you think would be understandable by a general audience. [Paste it into the form here: we will have a poll to decide who made the most understandable interpretation.]"
   ]
  },
  {
   "cell_type": "code",
   "execution_count": null,
   "metadata": {},
   "outputs": [],
   "source": [
    "coeffs = pd.Series(clf.coef_[0], index=titanic_trans.columns.drop('Survived'))"
   ]
  },
  {
   "cell_type": "code",
   "execution_count": null,
   "metadata": {},
   "outputs": [],
   "source": [
    "coeffs"
   ]
  },
  {
   "cell_type": "code",
   "execution_count": null,
   "metadata": {},
   "outputs": [],
   "source": [
    "np.exp(coeffs)"
   ]
  },
  {
   "cell_type": "markdown",
   "metadata": {},
   "source": [
    "All other things being equal:\n",
    "- For each class higher, passengers were about 2.6 times (1/0.386) more likely to survive than not - i.e. 1st class passengers were 2.6 times as likely to survive as second class passengers\n",
    "- Men were 13.6 times less likely to survive than women\n",
    "- Every year of age meant that your odds of survival to drowning went down by about 4%\n",
    "- For every sibling or spouse aboard, your odds of survival decreased by a factor of 1.6\n",
    "- For every sibling or spouse aboard, your odds of survival decreased by a factor of 1.82\n",
    "- A passenger who paid £100 was 2.5 times as likely to survive as one who paid £10.  "
   ]
  },
  {
   "cell_type": "markdown",
   "metadata": {},
   "source": [
    "## How many of these coefficients are meaningful?\n",
    "\n",
    "How likely is it that some of these coefficients could have arisen by chance? We'd like to find confidence intervals for each coefficient. \n",
    "\n",
    "**Excercise:** Write a bootstrap function to generate the sampling distribution of all of the coefficients. On each bootstrap iteration, we'd like to store the values of the intercept and all of the coefficients in one row of a dataframe. We'll then be able to plot distribution of the dataframe, and compute confidence intervals from the marginal distributions."
   ]
  },
  {
   "cell_type": "code",
   "execution_count": null,
   "metadata": {},
   "outputs": [],
   "source": [
    "def titanic_lr(titanic_trans):\n",
    "    X = titanic_trans.drop('Survived', 1).to_numpy(copy=True) \n",
    "    y = titanic_trans['Survived'].to_numpy()\n",
    "    # pipe = make_pipeline(StandardScaler(), LogisticRegression())\n",
    "    clf = LogisticRegression().fit(X, y)\n",
    "    coeffs = pd.Series(clf.intercept_, index=['Intercept'])\n",
    "    coeffs = coeffs.append(pd.Series(clf.coef_[0], index=titanic_trans.columns.drop('Survived')))\n",
    "    return(coeffs)"
   ]
  },
  {
   "cell_type": "code",
   "execution_count": null,
   "metadata": {},
   "outputs": [],
   "source": [
    "titanic_lr(titanic_trans)"
   ]
  },
  {
   "cell_type": "code",
   "execution_count": null,
   "metadata": {},
   "outputs": [],
   "source": [
    "def bootstrap_df(df, k=1000, estimator=titanic_lr, quantiles=[0.025, 0.975], plot=False):\n",
    "    n = len(df)\n",
    "    coeffs = estimator(df)\n",
    "    x_star_est = pd.DataFrame(index=range(k), columns=coeffs.index)\n",
    "    for i in range(k):\n",
    "        x_star = df.sample(n, replace=True)\n",
    "        x_star_est.loc[i] = estimator(x_star)\n",
    "        \n",
    "    return(x_star_est, x_star_est.quantile(quantiles), x_star_est.std())"
   ]
  },
  {
   "cell_type": "code",
   "execution_count": null,
   "metadata": {},
   "outputs": [],
   "source": [
    "titanic_lr_bs = bootstrap_df(titanic_trans)"
   ]
  },
  {
   "cell_type": "code",
   "execution_count": null,
   "metadata": {},
   "outputs": [],
   "source": [
    "sns.pairplot(titanic_lr_bs[0])"
   ]
  }
 ],
 "metadata": {
  "kernelspec": {
   "display_name": "Python 3",
   "language": "python",
   "name": "python3"
  },
  "language_info": {
   "codemirror_mode": {
    "name": "ipython",
    "version": 3
   },
   "file_extension": ".py",
   "mimetype": "text/x-python",
   "name": "python",
   "nbconvert_exporter": "python",
   "pygments_lexer": "ipython3",
   "version": "3.8.1"
  }
 },
 "nbformat": 4,
 "nbformat_minor": 4
}
