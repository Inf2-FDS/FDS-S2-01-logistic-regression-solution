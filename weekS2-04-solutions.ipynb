{
 "cells": [
  {
   "cell_type": "markdown",
   "metadata": {},
   "source": [
    "# Logistic regression and comparing groups"
   ]
  },
  {
   "cell_type": "markdown",
   "metadata": {},
   "source": [
    "Idea: Could we any of:\n",
    "- the Titanic dataset\n",
    "- the credit scoring dataset (from the lectures)\n",
    "- the dataset to with depression and body image (from the coursework)\n",
    "\n",
    "in two ways:\n",
    "\n",
    "1. Compare differences in means between two groups (hypothesis test)\n",
    "   - Using bootstrap\n",
    "   - Using t-test\n",
    "\n",
    "2. Try to fit a logistic regression model to predict the survival (in Titanic) or credit approval "
   ]
  },
  {
   "cell_type": "code",
   "execution_count": null,
   "metadata": {},
   "outputs": [],
   "source": []
  }
 ],
 "metadata": {
  "kernelspec": {
   "display_name": "Python 3",
   "language": "python",
   "name": "python3"
  },
  "language_info": {
   "codemirror_mode": {
    "name": "ipython",
    "version": 3
   },
   "file_extension": ".py",
   "mimetype": "text/x-python",
   "name": "python",
   "nbconvert_exporter": "python",
   "pygments_lexer": "ipython3",
   "version": "3.8.1"
  }
 },
 "nbformat": 4,
 "nbformat_minor": 4
}
